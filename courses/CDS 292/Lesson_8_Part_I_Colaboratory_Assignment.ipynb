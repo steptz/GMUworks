{
  "nbformat": 4,
  "nbformat_minor": 0,
  "metadata": {
    "colab": {
      "provenance": [],
      "private_outputs": true
    },
    "kernelspec": {
      "name": "python3",
      "display_name": "Python 3"
    }
  },
  "cells": [
    {
      "cell_type": "markdown",
      "metadata": {
        "id": "tMaLZV_Xbepz"
      },
      "source": [
        "# Lesson 8 Part I - Colaboratory Assignment\n",
        "\n",
        "**Instructions**. Below you will find several text cells with programming (short) problems. You will create how many code cells you need to answer them. Make sure that you and your programming partner contribute to the code.\n",
        "\n",
        "**BEFORE YOU START**\n",
        "\n",
        "Complete the cell below with your names. "
      ]
    },
    {
      "cell_type": "markdown",
      "metadata": {
        "id": "DRF1RerBbvD0"
      },
      "source": [
        "\n",
        "\n",
        "*   Zach Stept\n",
        "\n"
      ]
    },
    {
      "cell_type": "markdown",
      "metadata": {
        "id": "e0bFmyLNFFEK"
      },
      "source": [
        "## 1. Counting Triangles Inefficiently\n",
        "\n",
        "In the slides, you could see several ways to count triangles. There are some ways that make the count faster, which becomes extremely important when the number of nodes grows.\n",
        "\n",
        "We will try to make a count using a function defined in the videos. \n",
        "\n",
        "1. Modify the function `triangle_present` to return 1 when the triangle is present, and 0 otherwise.\n",
        "2. Use this modified function to obtain the number of global triangles in the `foodweb-baydry-links.txt` network."
      ]
    },
    {
      "cell_type": "code",
      "metadata": {
        "id": "WB3Jt2YjH_gl"
      },
      "source": [
        "def a(G, i, j):\n",
        "    if G.has_edge(i, j):\n",
        "        return 1\n",
        "    else:\n",
        "        return 0\n",
        "\n",
        "def triangle_present(G, i, j, q):\n",
        "    if a(G, i, j) * a(G, j, q) * a(G, q, i) == 1:\n",
        "        return 1\n",
        "    else:\n",
        "        return 0\n",
        "\n",
        "from readlist import readlist\n",
        "import networkx as nx\n",
        "F = readlist(\"foodweb-baydry-links.txt\", 0)\n",
        "nodeset = list(F.nodes())\n",
        "n = F.number_of_nodes()\n",
        "T = 0\n",
        "for i in range(n - 2):\n",
        "    for h in range(i + 1, n - 1):\n",
        "        for q in range(h + 1, n):\n",
        "            T += triangle_present(F, nodeset[i], nodeset[h], nodeset[q])\n",
        "print(\"The number of global triangles is:\", T)"
      ],
      "execution_count": null,
      "outputs": []
    },
    {
      "cell_type": "markdown",
      "metadata": {
        "id": "W8oGKA8JKNN2"
      },
      "source": [
        "## 2. Improving Efficiency\n",
        "\n",
        "The reason for the method used in the previous problem is so slow is the 3 level `for` loop. We have to pass through every node in the network several times. \n",
        "\n",
        "We should always be careful on the computational time it takes to count triangles for a network, or at least identify which method is more efficient. \n",
        "\n",
        "We could try counting triangles using the adjacency matrix. To do this, repeat the count for the local and global triangles in ne `foodweb-baydry-links` network using the adjacency matrix."
      ]
    },
    {
      "cell_type": "code",
      "source": [
        "A = nx.adjacency_matrix(F)\n",
        "A3 = A**3\n",
        "A3 = A3.toarray()\n",
        "\n",
        "n = F.number_of_nodes()\n",
        "nodeset = list(F.nodes())\n",
        "\n",
        "sum_t = 0\n",
        "for i in range(n):\n",
        "    sum_t += (A3[i][i] // 2)\n",
        "print(\"The number of local triangles is:\", sum_t)\n",
        "\n",
        "T = sum_t / 3\n",
        "print(\"The number of global triangles is:\", T)"
      ],
      "metadata": {
        "id": "bilHUFBKmlkc"
      },
      "execution_count": null,
      "outputs": []
    },
    {
      "cell_type": "markdown",
      "metadata": {
        "id": "W7BFnVGzcj_M"
      },
      "source": [
        "## 3. Analyzing a local triangle histogram\n",
        "\n",
        "Using any of the methods found in the slides, import the `EnronHt.txt` that contains the local triangle histogram for the Enron Network.\n",
        "\n",
        "Also from the slides, obtain from $H(t)$:\n",
        "\n",
        "- $n$\n",
        "- $\\min t$\n",
        "- $\\max t$\n",
        "- $T$\n",
        "- $\\langle t \\rangle$"
      ]
    },
    {
      "cell_type": "code",
      "metadata": {
        "id": "jK6EHxpkgFEU"
      },
      "source": [
        "import HtAnalysis as Ht\n",
        "enronHt = Ht.ImportH(\"EnronHt.txt\", \" \")\n",
        "\n",
        "n = Ht.get_n(enronHt)\n",
        "print(\"n =\", n)\n",
        "\n",
        "min_t = Ht.tmin(enronHt)\n",
        "print(\"min t =\", min_t)\n",
        "\n",
        "max_t = Ht.tmax(enronHt)\n",
        "print(\"max t =\", max_t)\n",
        "\n",
        "T = sum(k*v for k,v in enronHt.items()) / 3\n",
        "print(\"T =\", T)\n",
        "\n",
        "avg_t = Ht.tavg(enronHt)\n",
        "print(\"<t> =\", avg_t)"
      ],
      "execution_count": null,
      "outputs": []
    },
    {
      "cell_type": "markdown",
      "metadata": {
        "id": "Jb_Aam1diUy3"
      },
      "source": [
        "## 4. Plotting the local triangles histogram\n",
        "\n",
        "We will use a dataset introduced in the previous lesson: `dolphins.txt`.\n",
        "\n",
        "Using only the dataset, plot the histogram of local triangles with the appropriate scaling in both axes."
      ]
    },
    {
      "cell_type": "code",
      "metadata": {
        "id": "umgwEj2niWYF"
      },
      "source": [
        "from readlist import readlist\n",
        "import HtAnalysis as Ht\n",
        "D = readlist(\"dolphins.txt\", 0)\n",
        "\n",
        "def local_triangle_count2(G):\n",
        "    triangles = {}\n",
        "    A = nx.adjacency_matrix(G)\n",
        "    A3 = A**3\n",
        "    A3 = A3.toarray()\n",
        "    nodeset = list(G.nodes())\n",
        "    for i in range(len(nodeset)):\n",
        "        triangles[nodeset[i]] = A3[i][i] // 2\n",
        "    return triangles\n",
        "\n",
        "def Ht(G):\n",
        "    H = {}\n",
        "    t = local_triangle_count2(G)\n",
        "    for k in t.values():\n",
        "        H[k] = H.get(k, 0) + 1\n",
        "    return H\n",
        "\n",
        "DHt = Ht(D)\n",
        "\n",
        "import matplotlib.pyplot as plt\n",
        "plt.xlabel(\"t\")\n",
        "plt.ylabel(\"H(t)\")\n",
        "plt.bar(list(DHt.keys()), list(DHt.values()))"
      ],
      "execution_count": null,
      "outputs": []
    }
  ]
}